{
 "cells": [
  {
   "cell_type": "markdown",
   "metadata": {
    "collapsed": true,
    "pycharm": {
     "name": "#%% md\n"
    }
   },
   "source": [
    "# Compute Sky-View Factor\n",
    "\n",
    "This example show how to compute sky-view factor from DEM, stored in a local file.\n",
    "\n",
    "We are following the workflow:\n",
    "\n",
    "1. Import libraries\n",
    "2. Read and visualize DEM\n",
    "3. Compute and visualize SVF\n",
    "4. Save SVF to file"
   ]
  },
  {
   "cell_type": "markdown",
   "source": [
    "## Prepare environment\n",
    "\n",
    "First we import the libraries. In addition to ``rvt.vis`` we need ``rasterio`` for reading and writing of files, ``numpy`` for numerical functions and ``matplotlib`` for plotting. We also define figure size and location.\n",
    "\n",
    "Then we define input and output filenames."
   ],
   "metadata": {
    "collapsed": false,
    "pycharm": {
     "name": "#%% md\n"
    }
   }
  },
  {
   "cell_type": "code",
   "execution_count": null,
   "outputs": [],
   "source": [
    "# Matplotlib inline\n",
    "%matplotlib inline\n",
    "\n",
    "# Libraries\n",
    "import matplotlib.pyplot as plt\n",
    "import rasterio as rio\n",
    "import numpy as np\n",
    "import rvt.vis\n",
    "\n",
    "# Figure size and style\n",
    "plt.rcParams['figure.figsize'] = (15, 10)"
   ],
   "metadata": {
    "collapsed": false,
    "pycharm": {
     "name": "#%%\n"
    }
   }
  },
  {
   "cell_type": "code",
   "source": [
    "# Filenames\n",
    "dem_path = '../test_data/TM1_564_146.tif'\n",
    "svf_path = '../test_data/TM1_564_146.tif_SVF'"
   ],
   "metadata": {
    "collapsed": false,
    "pycharm": {
     "name": "#%%\n"
    }
   },
   "execution_count": null,
   "outputs": []
  },
  {
   "cell_type": "markdown",
   "source": [
    "## Read DEM\n",
    "\n",
    "Read DEM from file with ``rasterio``."
   ],
   "metadata": {
    "collapsed": false,
    "pycharm": {
     "name": "#%% md\n"
    }
   }
  },
  {
   "cell_type": "code",
   "execution_count": null,
   "outputs": [],
   "source": [
    "# Read DEM with rasterio\n",
    "dem_dataset = rio.open(dem_path)\n",
    "dem_arr = dem_dataset.read()[0]\n",
    "dem_arr.shape"
   ],
   "metadata": {
    "collapsed": false,
    "pycharm": {
     "name": "#%%\n"
    }
   }
  },
  {
   "cell_type": "code",
   "execution_count": null,
   "outputs": [],
   "source": [
    "# Get image parameters\n",
    "t = dem_dataset.transform\n",
    "x_res = t[0]\n",
    "y_res = -t[4]"
   ],
   "metadata": {
    "collapsed": false,
    "pycharm": {
     "name": "#%%\n"
    }
   }
  },
  {
   "cell_type": "markdown",
   "source": [
    "## Display DEM\n",
    "\n",
    "Check if DEM was read correctly."
   ],
   "metadata": {
    "collapsed": false
   }
  },
  {
   "cell_type": "code",
   "execution_count": null,
   "outputs": [],
   "source": [
    "# Display image\n",
    "plt.imshow(dem_arr)\n",
    "plt.show()"
   ],
   "metadata": {
    "collapsed": false,
    "pycharm": {
     "name": "#%%\n"
    }
   }
  },
  {
   "cell_type": "markdown",
   "source": [
    "## Compute sky-view factor\n",
    "\n",
    "Use the function ``rvt.vis.sky_view_factor`` to compute sky-view factor. All the parameters are using default values. The result is a dict, se we have to get only SVF."
   ],
   "metadata": {
    "collapsed": false
   }
  },
  {
   "cell_type": "code",
   "execution_count": null,
   "outputs": [],
   "source": [
    "# Compute SVF\n",
    "dict_svf_asvf_opns  = rvt.vis.sky_view_factor(dem=dem_arr, resolution=x_res)"
   ],
   "metadata": {
    "collapsed": false,
    "pycharm": {
     "name": "#%%\n"
    }
   }
  },
  {
   "cell_type": "code",
   "execution_count": null,
   "outputs": [],
   "source": [
    "# Get SVF from dict\n",
    "svf_arr = dict_svf_asvf_opns[\"svf\"]\n",
    "svf_arr = svf_arr.astype('float32')\n"
   ],
   "metadata": {
    "collapsed": false,
    "pycharm": {
     "name": "#%%\n"
    }
   }
  },
  {
   "cell_type": "markdown",
   "source": [
    "## Display sky-view factor\n",
    "\n",
    "Show the resulting SVF."
   ],
   "metadata": {
    "collapsed": false
   }
  },
  {
   "cell_type": "code",
   "execution_count": null,
   "outputs": [],
   "source": [
    "# Display SVF\n",
    "plt.imshow(svf_arr)\n",
    "plt.show()"
   ],
   "metadata": {
    "collapsed": false,
    "pycharm": {
     "name": "#%%\n"
    }
   }
  },
  {
   "cell_type": "markdown",
   "source": [
    "## Save the result\n",
    "\n",
    "At the end we can save the result to file. The file uses the same geographical information (projection, coordinates, pixel size) as the original image."
   ],
   "metadata": {
    "collapsed": false
   }
  },
  {
   "cell_type": "code",
   "execution_count": null,
   "outputs": [],
   "source": [
    "# Save SVF to file\n",
    "profile = dem_dataset.profile\n",
    "profile.update(dtype='float32')\n",
    "output_svf = rio.open(svf_path, \"w\", **profile)\n",
    "output_svf.write(np.array([svf_arr]))\n",
    "output_svf.close()"
   ],
   "metadata": {
    "collapsed": false,
    "pycharm": {
     "name": "#%%\n"
    }
   }
  },
  {
   "cell_type": "markdown",
   "source": [
    "## Compute openness and anisotropic SVF\n",
    "\n",
    "We can compute also openness and anisotropic sky-view factor. The results are displayed at the end together with input data."
   ],
   "metadata": {
    "collapsed": false
   }
  },
  {
   "cell_type": "code",
   "execution_count": null,
   "outputs": [],
   "source": [
    "# Compute SVF\n",
    "dict_svf_asvf_opns  = rvt.vis.sky_view_factor(dem=dem_arr, resolution=x_res, compute_svf=True, compute_opns=True, compute_asvf=True)"
   ],
   "metadata": {
    "collapsed": false,
    "pycharm": {
     "name": "#%%\n"
    }
   }
  },
  {
   "cell_type": "code",
   "execution_count": null,
   "outputs": [],
   "source": [
    "# SVF\n",
    "svf_arr = dict_svf_asvf_opns[\"svf\"]\n",
    "svf_arr = svf_arr.astype('float32')\n",
    "# openness\n",
    "asvf_arr = dict_svf_asvf_opns[\"asvf\"]\n",
    "asvf_arr = asvf_arr.astype('float32')\n",
    "# anisotropic SVF\n",
    "opns_arr = dict_svf_asvf_opns[\"opns\"]\n",
    "opns_arr = opns_arr.astype('float32')"
   ],
   "metadata": {
    "collapsed": false,
    "pycharm": {
     "name": "#%%\n"
    }
   }
  },
  {
   "cell_type": "code",
   "execution_count": null,
   "outputs": [],
   "source": [
    "# Create plot\n",
    "f, axarr = plt.subplots(2,2)\n",
    "axarr[0,0].imshow(dem_arr, cmap='gray')\n",
    "axarr[0,0].set_title('DEM')\n",
    "axarr[0,1].imshow(svf_arr, cmap='gray')\n",
    "axarr[0,1].set_title('SVF')\n",
    "axarr[1,0].imshow(opns_arr, cmap='gray')\n",
    "axarr[1,0].set_title('Openness')\n",
    "axarr[1,1].imshow(asvf_arr, cmap='gray')\n",
    "axarr[1,1].set_title('Anisotropic SVF ')\n",
    "plt.show()"
   ],
   "metadata": {
    "collapsed": false,
    "pycharm": {
     "name": "#%%\n"
    }
   }
  }
 ],
 "metadata": {
  "kernelspec": {
   "display_name": "Python 3",
   "language": "python",
   "name": "python3"
  },
  "language_info": {
   "codemirror_mode": {
    "name": "ipython",
    "version": 2
   },
   "file_extension": ".py",
   "mimetype": "text/x-python",
   "name": "python",
   "nbconvert_exporter": "python",
   "pygments_lexer": "ipython2",
   "version": "2.7.6"
  }
 },
 "nbformat": 4,
 "nbformat_minor": 0
}