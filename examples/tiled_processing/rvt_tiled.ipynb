{
 "cells": [
  {
   "cell_type": "code",
   "execution_count": 1,
   "id": "336b1fb4-8369-43b3-9b99-7915bad70954",
   "metadata": {},
   "outputs": [],
   "source": [
    "from pathlib import Path\n",
    "\n",
    "import geopandas as gpd\n",
    "\n",
    "import grid_tools as gt\n",
    "from tii_blends import tiled_blending"
   ]
  },
  {
   "cell_type": "markdown",
   "id": "1a1945b6-740a-419e-af44-e10fa5dd2752",
   "metadata": {},
   "source": [
    "## Select file(s)\n",
    "\n",
    "List paths to files. Paths can be passed as plain string format or as a `pathlib.Path` object."
   ]
  },
  {
   "cell_type": "code",
   "execution_count": 2,
   "id": "cc536aa8-15f8-4e28-bbab-4c1c5c8f52a3",
   "metadata": {},
   "outputs": [],
   "source": [
    "# List of INPUT DATASETS (have to be in this format)\n",
    "list_tifs = [\n",
    "    Path(r\".\\test_data\\test_small.tif\")\n",
    "]"
   ]
  },
  {
   "cell_type": "markdown",
   "id": "fb722999-5e00-4ecf-9b80-c402c38d969d",
   "metadata": {},
   "source": [
    "## Select blends\n",
    "\n",
    "Select the desired blends by listing the keywords:\n",
    "\n",
    "```\n",
    "blend_types = [\"SLRM\", \"vat_combined_8bit\"]\n",
    "```\n",
    "\n",
    "Choose from the following keywords for blends:\n",
    "* 'vat_combined_8bit'\n",
    "* 'e2MSTP'\n",
    "* 'e4MSTP'\n",
    "\n",
    "Keywords for basic visualizations:\n",
    "* \"SLRM\"\n",
    "* \"hs\"\n",
    "* \"svf\"\n",
    "\n",
    "> All visualizations are saved as 8 bit images using the default values for stretch and cut off"
   ]
  },
  {
   "cell_type": "code",
   "execution_count": 3,
   "id": "374da272-c812-4dbd-98c4-32e3839c6d60",
   "metadata": {},
   "outputs": [],
   "source": [
    "# Select visualizations\n",
    "blend_types = [\n",
    "    \"SLRM\",\n",
    "    \"vat_combined_8bit\"\n",
    "]"
   ]
  },
  {
   "cell_type": "markdown",
   "id": "f59cba5d-4c11-4ce0-b436-25a71c28e875",
   "metadata": {},
   "source": [
    "## Other inputs\n",
    "\n",
    "the followinf parameters are self explanatory."
   ]
  },
  {
   "cell_type": "code",
   "execution_count": 4,
   "id": "625d2af6-d1fe-4fc0-877e-e8eb5cb5e8fb",
   "metadata": {},
   "outputs": [],
   "source": [
    "# CONSTANT INPUT PARAMETERS\n",
    "\n",
    "tile_size = 1000  # in PIXELS!\n",
    "\n",
    "refgrid_existing = False  # Change to true, to avoid re-creating refgrid\n",
    "\n",
    "nr_processes = 3  # How many CPUs to use - deoends on your PC"
   ]
  },
  {
   "cell_type": "markdown",
   "id": "496aa826-1491-45d4-9c7d-196281ba875c",
   "metadata": {},
   "source": [
    "## Run the main routine\n",
    "\n",
    "Start processing by executing the following cell:"
   ]
  },
  {
   "cell_type": "code",
   "execution_count": 5,
   "id": "0e55d218-4923-440d-988b-75824aceeb72",
   "metadata": {},
   "outputs": [
    {
     "name": "stdout",
     "output_type": "stream",
     "text": [
      "Start --- test_data\n",
      "* validDataMask doesn't exists; Creating...\n",
      "Create REF GRID\n",
      "Finished tile: 243500_168500\n",
      "Finished tile: 244000_168500\n",
      "Finished tile: 244500_168500\n",
      "Finished tile: 243500_169000\n",
      "Finished tile: 244000_169000\n",
      "Finished tile: 244500_169000\n",
      "Finished tile: 243500_169500\n",
      "Finished tile: 244000_169500\n",
      "Finished tile: 244500_169500\n",
      "  - Created: test_data\\test_small_vat_combined_8bit.vrt\n",
      "Done with computing blends in 1 min.\n"
     ]
    }
   ],
   "source": [
    "for in_file in list_tifs:\n",
    "\n",
    "    # (1b) Instead of folder, the tif/vrt is given\n",
    "    input_vrt = in_file.as_posix()\n",
    "    ds = in_file.parent\n",
    "\n",
    "    print(\"Start --- \" + ds.name)\n",
    "\n",
    "    # (2) and (3) if refgrid doesn't exist, else read it from file\n",
    "    if refgrid_existing:\n",
    "        # I have added this option for Noise Mapping, because vrt and refgrid are filtered to contain\n",
    "        # only the tiles with archeology.\n",
    "        print(\"* refgrid exists; Reading from file...\")\n",
    "        refgrid_name = list(ds.glob(\"*_refgrid*.gpkg\"))[0]\n",
    "        tiles_extents = gpd.read_file(refgrid_name)\n",
    "    else:\n",
    "        # (2) To filter we need polygon covering valid data\n",
    "        vdm_file = list(ds.glob(\"*_validDataMask*\"))\n",
    "\n",
    "        if vdm_file:\n",
    "            print(\"* validDataMask exists; Removing and creating new...\")\n",
    "            Path(vdm_file[0]).unlink()\n",
    "        else:\n",
    "            # If it doesn't exist, try creating from VRT\n",
    "            print(\"* validDataMask doesn't exists; Creating...\")\n",
    "\n",
    "        valid_data_outline = gt.poly_from_valid(input_vrt, save_gpkg=True)\n",
    "\n",
    "        # (3) Create reference grid, filter it and save it to disk\n",
    "        print(\"Create REF GRID\")\n",
    "\n",
    "        refgrid_name = input_vrt[:-4] + \"_refgrid.gpkg\"\n",
    "        if Path(refgrid_name).exists():\n",
    "            Path(refgrid_name).unlink()\n",
    "\n",
    "        tiles_extents = gt.bounding_grid(input_vrt, tile_size, tag=True)\n",
    "        tiles_extents = gt.filter_by_outline(\n",
    "            tiles_extents, valid_data_outline.as_posix(),\n",
    "            save_gpkg=True, save_path=refgrid_name\n",
    "        )\n",
    "\n",
    "    # Run tiled blending (visualizations calculated on the go, stored in memory)\n",
    "    tiles_list = tiles_extents[[\"minx\", \"miny\", \"maxx\", \"maxy\"]].values.tolist()\n",
    "\n",
    "    tiled_blending(\n",
    "        blend_types=blend_types,\n",
    "        input_vrt_path=in_file,\n",
    "        tiles_list=tiles_list,\n",
    "        nr_processes=nr_processes\n",
    "    )"
   ]
  }
 ],
 "metadata": {
  "kernelspec": {
   "display_name": "aitlas",
   "language": "python",
   "name": "aitlas"
  },
  "language_info": {
   "codemirror_mode": {
    "name": "ipython",
    "version": 3
   },
   "file_extension": ".py",
   "mimetype": "text/x-python",
   "name": "python",
   "nbconvert_exporter": "python",
   "pygments_lexer": "ipython3",
   "version": "3.8.19"
  }
 },
 "nbformat": 4,
 "nbformat_minor": 5
}
