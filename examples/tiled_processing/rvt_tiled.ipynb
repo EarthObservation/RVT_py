{
 "cells": [
  {
   "cell_type": "code",
   "execution_count": 1,
   "id": "336b1fb4-8369-43b3-9b99-7915bad70954",
   "metadata": {},
   "outputs": [],
   "source": [
    "from tiled_multiprocess import run_main\n"
   ]
  },
  {
   "cell_type": "markdown",
   "id": "1a1945b6-740a-419e-af44-e10fa5dd2752",
   "metadata": {},
   "source": [
    "## Select file(s)\n",
    "\n",
    "List paths to files. Paths can be passed as plain string format or as a `pathlib.Path` object."
   ]
  },
  {
   "cell_type": "code",
   "execution_count": 2,
   "id": "cc536aa8-15f8-4e28-bbab-4c1c5c8f52a3",
   "metadata": {},
   "outputs": [],
   "source": [
    "# List of INPUT DATASETS (have to be in this format)\n",
    "list_tifs = [\n",
    "    r\"c:\\Users\\ncoz\\GitHub\\erc_potencial\\test_data\\test_small.tif\"\n",
    "]"
   ]
  },
  {
   "cell_type": "markdown",
   "id": "caac01bb-d3f1-45d9-b041-ca200f15f44d",
   "metadata": {},
   "source": [
    "The defaults are save in 8-bit format (256 values, RGB). To also save pixel values as float, change the following parameter to \"True\":"
   ]
  },
  {
   "cell_type": "code",
   "execution_count": null,
   "id": "33a416e7-9a23-4dbe-b709-28a8a6ce815f",
   "metadata": {},
   "outputs": [],
   "source": [
    "save_float = False"
   ]
  },
  {
   "cell_type": "markdown",
   "id": "d666cd0a-2d0d-41ad-8763-0eb66265a57b",
   "metadata": {},
   "source": [
    "## Select visualizations\n",
    "\n",
    "Select the desired blends by listing the keywords. Leave an empty Python list if no visualizations are to be saved.\n",
    "\n",
    "```\n",
    "vis_types = [\"slrm\", \"hs\"]\n",
    "```\n",
    "example of empty list:\n",
    "```\n",
    "vis_types = []\n",
    "```\n",
    "\n",
    "Keywords for basic visualizations:\n",
    "*  'slp' - Slope\n",
    "*  'hs' - Hillshade\n",
    "*  'slrm' - Simple local relief model\n",
    "*  'svf' - Sky view factor\n",
    "*  'opns' - Positive openness\n",
    "*  'neg_opns' - Negative openness\n",
    "*  'ld' - Local dominance\n",
    "*  'mstp' - Multi-scale topographic position\n",
    "\n",
    "> All visualizations are saved as 8-bit images using the default values for stretch and cut off"
   ]
  },
  {
   "cell_type": "code",
   "execution_count": 3,
   "id": "01d02ac4-16cc-45a9-88d4-ecea209e9a7f",
   "metadata": {},
   "outputs": [],
   "source": [
    "# Select visualizations\n",
    "vis_types = [\n",
    "    \"slrm\"\n",
    "]"
   ]
  },
  {
   "cell_type": "markdown",
   "id": "fb722999-5e00-4ecf-9b80-c402c38d969d",
   "metadata": {},
   "source": [
    "## Select blends\n",
    "\n",
    "Select the desired blends by listing the keywords:\n",
    "\n",
    "```\n",
    "blend_types = [\"vat_combined_8bit\"]\n",
    "```\n",
    "example of empty list:\n",
    "```\n",
    "blend_types = []\n",
    "```\n",
    "\n",
    "Choose from the following keywords for blends:\n",
    "*  'vat_combined'\n",
    "*  'e2MSTP'\n",
    "*  'e4MSTP'\n",
    "*  'CRIM'\n",
    "\n",
    "> All blends are saved as 8-bit images using the default values for stretch and cut off"
   ]
  },
  {
   "cell_type": "code",
   "execution_count": 4,
   "id": "374da272-c812-4dbd-98c4-32e3839c6d60",
   "metadata": {},
   "outputs": [],
   "source": [
    "# Select visualizations\n",
    "blend_types = [\n",
    "    \"vat_combined\"\n",
    "]"
   ]
  },
  {
   "cell_type": "markdown",
   "id": "496aa826-1491-45d4-9c7d-196281ba875c",
   "metadata": {},
   "source": [
    "## Run the main routine\n",
    "\n",
    "Start processing by executing the following cell:"
   ]
  },
  {
   "cell_type": "code",
   "execution_count": 5,
   "id": "0e55d218-4923-440d-988b-75824aceeb72",
   "metadata": {},
   "outputs": [
    {
     "name": "stdout",
     "output_type": "stream",
     "text": [
      "Start --- c:/Users/ncoz/GitHub/erc_potencial/test_data/test_small.tif\n",
      "Processing as single tile...\n",
      "Done with computing blends in 0 min.\n"
     ]
    }
   ],
   "source": [
    "run_main(\n",
    "    list_tifs=list_tifs,\n",
    "    vis_types=vis_types,\n",
    "    blend_types=blend_types,\n",
    "    save_float=save_float\n",
    ")"
   ]
  }
 ],
 "metadata": {
  "kernelspec": {
   "display_name": "aitlas",
   "language": "python",
   "name": "aitlas"
  },
  "language_info": {
   "codemirror_mode": {
    "name": "ipython",
    "version": 3
   },
   "file_extension": ".py",
   "mimetype": "text/x-python",
   "name": "python",
   "nbconvert_exporter": "python",
   "pygments_lexer": "ipython3",
   "version": "3.8.19"
  }
 },
 "nbformat": 4,
 "nbformat_minor": 5
}
