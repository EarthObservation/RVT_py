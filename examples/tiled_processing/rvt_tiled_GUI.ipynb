{
 "cells": [
  {
   "cell_type": "markdown",
   "id": "d5d527fb-102e-4185-8b94-07257196eef7",
   "metadata": {},
   "source": [
    "## RVT tiled processing"
   ]
  },
  {
   "cell_type": "markdown",
   "id": "9edcf73f-58ab-4a7f-9014-eb3b800a40af",
   "metadata": {
    "pycharm": {
     "name": "#%% md\n"
    }
   },
   "source": [
    "This example notebook shows how to efficiently process large raster files or a large number of raster files.\n",
    "\n",
    "The notebook shows how to:\n",
    "- run tiled processing using a jupyter notebook widget\n",
    "- change visualisation parameters"
   ]
  },
  {
   "cell_type": "markdown",
   "id": "44cc473c-6aae-4af5-9510-75b0ec49b7f2",
   "metadata": {},
   "source": [
    "## Instuctions\n",
    "\n",
    "### Select file(s)\n",
    "\n",
    "You can acces the select files window dialog by clicking the `Select file(s)` button. Allowed formats are TIF and VRT.\n",
    "\n",
    "### Select visualizations\n",
    "\n",
    "Multiple visualizations can be selected by holding the `Ctrl` and clicking the desired labels."
   ]
  },
  {
   "cell_type": "markdown",
   "id": "dd69cf67-676f-4882-82cc-85f0b12138b5",
   "metadata": {
    "pycharm": {
     "name": "#%% md\n"
    }
   },
   "source": [
    "----"
   ]
  },
  {
   "cell_type": "markdown",
   "id": "5c18ac4a-a4fb-4e83-bb6b-0c8a1c477892",
   "metadata": {},
   "source": [
    "Importing the GUI widget is straightforward, just run the following cell:"
   ]
  },
  {
   "cell_type": "code",
   "execution_count": 1,
   "id": "4b90a3fd-1fe7-46d4-9cab-e96137dfdd48",
   "metadata": {},
   "outputs": [
    {
     "data": {
      "application/vnd.jupyter.widget-view+json": {
       "model_id": "910520b1f2ea480bbf18ec0a19469004",
       "version_major": 2,
       "version_minor": 0
      },
      "text/plain": [
       "VBox(children=(HTML(value='<b>RVT - TILED PROCESSING FOR LARGE FILES</b>'), SelectFilesButton(description='Sel…"
      ]
     },
     "metadata": {},
     "output_type": "display_data"
    }
   ],
   "source": [
    "import tiled_GUI"
   ]
  },
  {
   "cell_type": "markdown",
   "id": "330d184c-4fa4-4c55-a813-94e8c056723d",
   "metadata": {},
   "source": [
    "---"
   ]
  },
  {
   "cell_type": "markdown",
   "id": "9a6eb748-e233-4d95-8fc6-7ab0fb41dc2c",
   "metadata": {},
   "source": [
    "### Visualizations\n",
    "\n",
    "All selected visualizations will be stored as 8bit images. Parameters set in the `default_1.json` file will be used for normalization for each individual visualization."
   ]
  },
  {
   "cell_type": "markdown",
   "id": "e8252554-c9f2-4e0d-afa8-d6ebe09d72fd",
   "metadata": {
    "pycharm": {
     "name": "#%% md\n"
    }
   },
   "source": [
    "---"
   ]
  },
  {
   "cell_type": "markdown",
   "id": "678323cb-772b-427e-ad91-39d3ac81860b",
   "metadata": {},
   "source": [
    "### Changing parameter values"
   ]
  },
  {
   "cell_type": "markdown",
   "id": "fe214abd-70c4-4f94-bc96-f0bd62897f57",
   "metadata": {},
   "source": [
    "Parameter values can be modified by mofiying the `default_1.json` and `default_2.json` files:\n",
    "\n",
    "- choose **default_1** to access parameters for *VAT GENERAL* or for any basic visualization (*Hillshade*, *SLRM*, *SVF*, etc.)\n",
    "- choose **default_2** to access parameters for *VAT FLAT*\n",
    "\n",
    "All basic visualizations are saved as 8 bit images, using the default stretch and cut-off values."
   ]
  }
 ],
 "metadata": {
  "kernelspec": {
   "display_name": "aitlas",
   "language": "python",
   "name": "aitlas"
  },
  "language_info": {
   "codemirror_mode": {
    "name": "ipython",
    "version": 3
   },
   "file_extension": ".py",
   "mimetype": "text/x-python",
   "name": "python",
   "nbconvert_exporter": "python",
   "pygments_lexer": "ipython3",
   "version": "3.8.19"
  }
 },
 "nbformat": 4,
 "nbformat_minor": 5
}
